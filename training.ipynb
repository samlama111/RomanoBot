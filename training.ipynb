{
 "cells": [
  {
   "cell_type": "code",
   "execution_count": null,
   "metadata": {},
   "outputs": [],
   "source": [
    "import ray\n",
    "import ray.data\n",
    "import pandas as pd"
   ]
  },
  {
   "cell_type": "code",
   "execution_count": null,
   "metadata": {},
   "outputs": [],
   "source": [
    "from hdfs import Config\n",
    "\n",
    "client = Config(path=\"./hdfs-docker-cluster/hadoop_config/.hdfscli.cfg\").get_client(\n",
    "    \"dev\"\n",
    ")"
   ]
  },
  {
   "cell_type": "code",
   "execution_count": null,
   "metadata": {},
   "outputs": [],
   "source": [
    "# Insert files, taken from populate_hdfs\n",
    "files_to_upload = [\"transfers.csv\"]\n",
    "\n",
    "# Check if the file exists\n",
    "for file in files_to_upload:\n",
    "    local_path = f\"./data/{file}\"\n",
    "    remote_path = f\"/tmp/{file}\"\n",
    "    print(f\"Checking if {file} exists...\")\n",
    "    if client.status(remote_path, strict=False):\n",
    "        print(f\"{file} exists!\")\n",
    "        # Remove the file, otherwise it exists but can't be mapped to existing data nodes? \n",
    "        print(f\"Removing {file}...\")\n",
    "        client.delete(remote_path)\n",
    "    \n",
    "    print(\"Uploading file to /tmp...\")\n",
    "    # Upload a file to tmp, to be processed further\n",
    "    client.upload(remote_path, local_path)\n",
    "\n",
    "print(\"/tmp contents: \", client.list(\"/tmp\"))"
   ]
  },
  {
   "cell_type": "code",
   "execution_count": null,
   "metadata": {},
   "outputs": [],
   "source": [
    "# Initialize Ray\n",
    "ray.init()"
   ]
  },
  {
   "cell_type": "code",
   "execution_count": null,
   "metadata": {},
   "outputs": [],
   "source": [
    "# Read the CSV file from HDFS\n",
    "with client.read(\"/tmp/transfers.csv\") as reader:\n",
    "    file_contents = reader.read().decode('utf-8')\n",
    "\n",
    "# Load the CSV data into a Pandas DataFrame\n",
    "from io import StringIO\n",
    "df = pd.read_csv(StringIO(file_contents))\n",
    "\n",
    "# Convert the Pandas DataFrame into a Ray Dataset\n",
    "dataset = ray.data.from_pandas(df)\n",
    "\n",
    "# Print the dataset\n",
    "print(dataset.take())"
   ]
  },
  {
   "cell_type": "code",
   "execution_count": null,
   "metadata": {},
   "outputs": [],
   "source": [
    "# Shutdown Ray\n",
    "ray.shutdown()"
   ]
  }
 ],
 "metadata": {
  "kernelspec": {
   "display_name": "Python 3 (ipykernel)",
   "language": "python",
   "name": "python3"
  },
  "language_info": {
   "codemirror_mode": {
    "name": "ipython",
    "version": 3
   },
   "file_extension": ".py",
   "mimetype": "text/x-python",
   "name": "python",
   "nbconvert_exporter": "python",
   "pygments_lexer": "ipython3",
   "version": "3.9.20"
  }
 },
 "nbformat": 4,
 "nbformat_minor": 4
}
